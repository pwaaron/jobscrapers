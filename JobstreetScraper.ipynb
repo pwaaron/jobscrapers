{
 "cells": [
  {
   "cell_type": "markdown",
   "metadata": {},
   "source": [
    "# Scraping jobs on Jobstreet"
   ]
  },
  {
   "cell_type": "code",
   "execution_count": 1,
   "metadata": {},
   "outputs": [],
   "source": [
    "import requests\n",
    "from bs4 import BeautifulSoup\n",
    "from csv import reader, writer\n",
    "from time import sleep\n",
    "import json"
   ]
  },
  {
   "cell_type": "markdown",
   "metadata": {},
   "source": [
    "## Get the job URLs\n",
    "First, we will collect all the URLs from the search pages.\n",
    "The job information is stored as a JSON, easier to navigate."
   ]
  },
  {
   "cell_type": "code",
   "execution_count": 2,
   "metadata": {},
   "outputs": [],
   "source": [
    "jobs = []\n",
    "N_JOBS = 1109 #Number of available jobs on the portal. Change accordingly.\n",
    "PAGES = N_JOBS // 30 + 1 #Denominator is the number of jobs per page\n",
    "SEARCH_QUERY = 'telecommunication' #change accordingly, leave empty if necessary"
   ]
  },
  {
   "cell_type": "code",
   "execution_count": 3,
   "metadata": {},
   "outputs": [],
   "source": [
    "if SEARCH_QUERY:\n",
    "    SEARCH_LINK = 'https://www.jobstreet.com.sg/en/job-search/' + '-'.join((SEARCH_QUERY + ' ' + 'jobs in singapore').split()) + '/{}/'\n",
    "else:\n",
    "    SEARCH_LINK = 'https://www.jobstreet.com.sg/en/job-search/singapore-jobs/{}/'                                                                      "
   ]
  },
  {
   "cell_type": "code",
   "execution_count": 4,
   "metadata": {},
   "outputs": [
    {
     "data": {
      "text/plain": [
       "'https://www.jobstreet.com.sg/en/job-search/telecommunication-jobs-in-singapore/{}/'"
      ]
     },
     "execution_count": 4,
     "metadata": {},
     "output_type": "execute_result"
    }
   ],
   "source": [
    "SEARCH_LINK"
   ]
  },
  {
   "cell_type": "code",
   "execution_count": 5,
   "metadata": {},
   "outputs": [],
   "source": [
    "# Index starts from 1\n",
    "for i in range(1, PAGES + 1):\n",
    "    try:\n",
    "        search_page = requests.get(SEARCH_LINK.format(i))\n",
    "        search_page_soup = BeautifulSoup(search_page.text, 'html5lib')\n",
    "        jobs.extend(json.loads(search_page_soup.find_all(\"script\")[1].text[len('window.REDUX_STATE = '):-len(\";\")])[\"result\"][\"jobs\"])\n",
    "    except:\n",
    "        continue"
   ]
  },
  {
   "cell_type": "code",
   "execution_count": 6,
   "metadata": {},
   "outputs": [
    {
     "data": {
      "text/plain": [
       "1002"
      ]
     },
     "execution_count": 6,
     "metadata": {},
     "output_type": "execute_result"
    }
   ],
   "source": [
    "len(jobs)"
   ]
  },
  {
   "cell_type": "code",
   "execution_count": 7,
   "metadata": {},
   "outputs": [],
   "source": [
    "job_id = list(map(lambda job: job[\"id\"], jobs))\n",
    "country_code = list(map(lambda job: job[\"sourceCountryCode\"], jobs))\n",
    "company = list(map(lambda job: job[\"companyMeta\"][\"name\"], jobs))\n",
    "qualification = list(map(lambda job: job[\"qualificationName\"], jobs))\n",
    "work_experience = list(map(lambda job: job[\"workExperienceName\"], jobs))\n",
    "career_level = list(map(lambda job: job[\"careerLevelName\"], jobs))\n",
    "employment_term = list(map(lambda job: job[\"employmentTermName\"], jobs))\n",
    "job_title = list(map(lambda job: job[\"jobTitle\"], jobs))\n",
    "job_url = list(map(lambda job: job[\"jobUrl\"], jobs))\n",
    "category = list(map(lambda job: str(list(map(lambda category: category[\"name\"], job[\"categories\"])))[1:-1], jobs))\n",
    "posted_date = list(map(lambda job: job[\"postedAt\"], jobs))\n",
    "salary = list(map(lambda job: job[\"salary\"], jobs))"
   ]
  },
  {
   "cell_type": "code",
   "execution_count": 8,
   "metadata": {},
   "outputs": [],
   "source": [
    "def getPage(link):\n",
    "    try:\n",
    "        req = requests.get(link)\n",
    "        return BeautifulSoup(req.text, 'lxml')\n",
    "    except:\n",
    "        return BeautifulSoup('', 'lxml')"
   ]
  },
  {
   "cell_type": "code",
   "execution_count": 9,
   "metadata": {},
   "outputs": [],
   "source": [
    "pages = list(map(getPage, job_url))"
   ]
  },
  {
   "cell_type": "code",
   "execution_count": 10,
   "metadata": {},
   "outputs": [],
   "source": [
    "def getJobDesc(page):\n",
    "    try:\n",
    "        jd = page.find(\"div\", {\"data-automation\": \"jobDescription\"}).text\n",
    "        return jd\n",
    "    except:\n",
    "        return \"\"\n",
    "job_descriptions = list(map(lambda page: getJobDesc(page), pages))"
   ]
  },
  {
   "cell_type": "markdown",
   "metadata": {},
   "source": [
    "## Save as Dataframe"
   ]
  },
  {
   "cell_type": "code",
   "execution_count": 11,
   "metadata": {},
   "outputs": [],
   "source": [
    "import pandas as pd"
   ]
  },
  {
   "cell_type": "code",
   "execution_count": 12,
   "metadata": {},
   "outputs": [],
   "source": [
    "col = {'job_title': job_title, 'category': category, 'job_descriptions': job_descriptions,\n",
    "       'job_id':job_id, 'country_code': country_code, \n",
    "       'company': company, 'qualification': qualification,\n",
    "       'work_experience': work_experience, 'career_level': career_level,\n",
    "       'employment_term': employment_term, 'job_url': job_url, \n",
    "       'posted_date': posted_date, 'salary': salary}"
   ]
  },
  {
   "cell_type": "code",
   "execution_count": 13,
   "metadata": {},
   "outputs": [],
   "source": [
    "jobs = pd.DataFrame(col)"
   ]
  },
  {
   "cell_type": "code",
   "execution_count": 14,
   "metadata": {},
   "outputs": [
    {
     "name": "stdout",
     "output_type": "stream",
     "text": [
      "DONE\n"
     ]
    }
   ],
   "source": [
    "PREFIX = \"jobstreet results\"\n",
    "FILENAME = '_'.join((PREFIX + ' '+ SEARCH_QUERY).split()) + \".csv\"\n",
    "jobs.to_csv(FILENAME, index=False)\n",
    "print(\"DONE\")"
   ]
  },
  {
   "cell_type": "code",
   "execution_count": null,
   "metadata": {},
   "outputs": [],
   "source": []
  }
 ],
 "metadata": {
  "kernelspec": {
   "display_name": "Python 3",
   "language": "python",
   "name": "python3"
  },
  "language_info": {
   "codemirror_mode": {
    "name": "ipython",
    "version": 3
   },
   "file_extension": ".py",
   "mimetype": "text/x-python",
   "name": "python",
   "nbconvert_exporter": "python",
   "pygments_lexer": "ipython3",
   "version": "3.7.7"
  }
 },
 "nbformat": 4,
 "nbformat_minor": 2
}
